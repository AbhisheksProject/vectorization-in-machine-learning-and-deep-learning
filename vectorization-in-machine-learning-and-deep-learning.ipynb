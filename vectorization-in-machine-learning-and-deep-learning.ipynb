{
 "cells": [
  {
   "cell_type": "markdown",
   "metadata": {},
   "source": [
    "# Vectorization\n",
    "---\n",
    "## Introduction\n",
    "In general, the word 'vector' means a one-dimensional matrix. Vectorizations methods are extensively used in Deep Learning and Machine Learning. Vectorization is a method by which, we make mathematical calculations faster using vectors and matrices.\n",
    "\n",
    "In this project, I will discuss vectorization, its advantages and how to code it in python. \n",
    "\n",
    "## Explanation\n",
    "Let's say we want to find the dot product of two vectors. Generally, you can use a for loop for that. So the first step is to create a for loop and then multiply each element and storing the result in a variable. The pseudo code for this is given below\n",
    "\n",
    "    for i = 1 to N\n",
    "        Result += elementA[i] * elementB[i]\n",
    "    endfor\n",
    "Here N is the total number of elements in the vectors.\n",
    "\n",
    "Now, let's use the vectorized method for doing the same thing. In vectorization, we don't need to use any for loops. So we know we have two vectors. in python, there is a package called **Numpy**. Numpy is a mathematical library that provides different methods for mathematical calculations. In numpy, there is a method called **dot**. This is a method used for calculating the dot product of vectors/matrices. And here we are going to use it. The pseudo for this is given below\n",
    "\n",
    "    numpy.dot(vectorA, vectorB)\n",
    "\n",
    "Yes, this one line of code will do all the thing that we do earlier."
   ]
  },
  {
   "cell_type": "markdown",
   "metadata": {},
   "source": [
    "## Coding\n",
    "So now we know what is Vectorization and how to achieve it. So the next step is to code it in python.\n",
    "\n",
    "### Dependencies\n",
    "Our first step to code vectorization is to add the packages to our project. Here we will use **Numpy** and **Time** package."
   ]
  },
  {
   "cell_type": "code",
   "execution_count": 1,
   "metadata": {
    "collapsed": true
   },
   "outputs": [],
   "source": [
    "#Adding numpy as np\n",
    "import numpy as np\n",
    "#Adding time for calculating total amount of time\n",
    "import time\n",
    "#Adding matplotlib for visualizing results\n",
    "import matplotlib.pyplot as plt"
   ]
  },
  {
   "cell_type": "markdown",
   "metadata": {},
   "source": [
    "### Initialization of the data\n",
    "Send step is to prepare the data or the two vectors. Here we will create two vectors. Here each vector will be a 10 million dimentional vector."
   ]
  },
  {
   "cell_type": "code",
   "execution_count": 2,
   "metadata": {
    "collapsed": true
   },
   "outputs": [],
   "source": [
    "#Creating two arrays A and B\n",
    "A = np.random.randn(10000000)\n",
    "B = np.random.randn(10000000)"
   ]
  },
  {
   "cell_type": "markdown",
   "metadata": {},
   "source": [
    "### Vectorized method\n",
    "Now we can use vectorized method for calculating the dot product of the two vectors."
   ]
  },
  {
   "cell_type": "code",
   "execution_count": 8,
   "metadata": {
    "collapsed": true
   },
   "outputs": [],
   "source": [
    "#Initializing C as 0\n",
    "C = 0\n",
    "#Start time\n",
    "tic = time.time()\n",
    "#Calculating the dot product using numpy dot method\n",
    "C = np.dot(A,B)\n",
    "#End time\n",
    "toc = time.time()\n",
    "#Saving the total time taken by the dot method\n",
    "vectorizedTime = 1000*(toc-tic)\n",
    "#Saving the result\n",
    "vectorizedC = C"
   ]
  },
  {
   "cell_type": "markdown",
   "metadata": {},
   "source": [
    "### Loop method\n",
    "So now we can use for loop for calculating the dot product of the two vectors."
   ]
  },
  {
   "cell_type": "code",
   "execution_count": 9,
   "metadata": {
    "collapsed": true
   },
   "outputs": [],
   "source": [
    "#Initializing C as 0\n",
    "C = 0\n",
    "#Start time\n",
    "tic = time.time()\n",
    "#Calculating the dot product using a for loop\n",
    "for i in range(10000000):\n",
    "    C += A[i]*B[i]\n",
    "#End time\n",
    "toc = time.time()\n",
    "#Saving total time taken by the the algorithm\n",
    "loopTime = 1000*(toc-tic)\n",
    "#Saving the dot product\n",
    "loopC = C"
   ]
  },
  {
   "cell_type": "markdown",
   "metadata": {},
   "source": [
    "### Analyzing the data\n",
    "Now we can analyze the data.\n",
    "\n",
    "So the first step will be printing the time taken by each process to calculate the dot product of the vectors."
   ]
  },
  {
   "cell_type": "code",
   "execution_count": 11,
   "metadata": {},
   "outputs": [
    {
     "name": "stdout",
     "output_type": "stream",
     "text": [
      "Using the vectorization, the dot product is 914.627362515\n",
      "For calculating the dot product using the vectorized method, it took 16.956090927124023\n"
     ]
    }
   ],
   "source": [
    "print(\"Using the vectorization, the dot product is \" + str(vectorizedC))\n",
    "print(\"For calculating the dot product using the vectorized method, it took \" + str(vectorizedTime))"
   ]
  },
  {
   "cell_type": "code",
   "execution_count": 10,
   "metadata": {},
   "outputs": [
    {
     "name": "stdout",
     "output_type": "stream",
     "text": [
      "Using the loop, the dot product is 914.627362515\n",
      "For calculating the dot product using the loop method, it took 10873.570919036865\n"
     ]
    }
   ],
   "source": [
    "print(\"Using the loop, the dot product is \" + str(loopC))\n",
    "print(\"For calculating the dot product using the loop method, it took \" + str(loopTime))"
   ]
  },
  {
   "cell_type": "code",
   "execution_count": 12,
   "metadata": {},
   "outputs": [
    {
     "name": "stdout",
     "output_type": "stream",
     "text": [
      "That means vectorized method is 641.2781675782843 times faster than for loop method\n"
     ]
    }
   ],
   "source": [
    "print(\"That means vectorized method is \" + str(loopTime/vectorizedTime) + \" times faster than for loop method\")"
   ]
  },
  {
   "cell_type": "markdown",
   "metadata": {},
   "source": [
    "So one thing is clear, and that is **vectorization is much faster than traditional loops**. More than 500 times faster than loops.\n",
    "\n",
    "Just to make a better understanding, how fast is vectorization, here is a bar chart comparing the results."
   ]
  },
  {
   "cell_type": "code",
   "execution_count": 13,
   "metadata": {},
   "outputs": [
    {
     "data": {
      "image/png": "[encoded data removed]",
      "text/plain": [
       "<matplotlib.figure.Figure at 0x1d45d652748>"
      ]
     },
     "metadata": {},
     "output_type": "display_data"
    }
   ],
   "source": [
    "plt.bar([1,5], [vectorizedTime,loopTime])\n",
    "plt.ylabel(\"Time taken\")\n",
    "plt.xlabel(\"Vectorized Method and Loop Method\")\n",
    "plt.title(\"A bar chart comparing the results\")\n",
    "plt.show()"
   ]
  },
  {
   "cell_type": "markdown",
   "metadata": {
    "collapsed": true
   },
   "source": [
    "On the left side of the chart, there is there is a very tiny bar. That is the time taken by the vectorized method. And on the right side, that tall bar is the loop method. So now it is clear that vectorization is blazing fast compared to old loop method."
   ]
  },
  {
   "cell_type": "markdown",
   "metadata": {
    "collapsed": true
   },
   "source": [
    "## Advantages\n",
    "Following are the advantages of vectorization\n",
    "1. It is very fast compared to loop method\n",
    "2. We need to write less amount of code for performing big calculations\n",
    "3. We can use python [broadcasting][1]\n",
    "4. We can use parallel processing \n",
    "\n",
    "\n",
    "\n",
    "[1]: https://docs.scipy.org/doc/numpy/user/basics.broadcasting.html"
   ]
  },
  {
   "cell_type": "markdown",
   "metadata": {
    "collapsed": true
   },
   "source": [
    "## But why it is so fast\n",
    "But why it is so fast compared to loop method. How numpy is calculating the dot product so fast?\n",
    "\n",
    "Numpy as a professional package and one of the most widely used packages for machine learning and deep learning. It is highly optimized for performing mathematical calculations. And that is why it is so fast."
   ]
  },
  {
   "cell_type": "markdown",
   "metadata": {
    "collapsed": true
   },
   "source": [
    "## How to achieve vectorization\n",
    "To achieve vectorization, first, try to avoid treating over vectors or matrices for performing mathematical calculations. Instead of that use numpy or similar packages for performing vector/matrix calculations. "
   ]
  }
 ],
 "metadata": {
  "kernelspec": {
   "display_name": "Python 3",
   "language": "python",
   "name": "python3"
  },
  "language_info": {
   "codemirror_mode": {
    "name": "ipython",
    "version": 3
   },
   "file_extension": ".py",
   "mimetype": "text/x-python",
   "name": "python",
   "nbconvert_exporter": "python",
   "pygments_lexer": "ipython3",
   "version": "3.6.3"
  }
 },
 "nbformat": 4,
 "nbformat_minor": 2
}
